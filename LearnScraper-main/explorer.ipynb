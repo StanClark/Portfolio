{
 "cells": [
  {
   "cell_type": "code",
   "execution_count": 62,
   "metadata": {},
   "outputs": [],
   "source": [
    "import pandas as pd\n",
    "\n",
    "\n",
    "\n",
    "import os.path\n",
    "import sys\n",
    "\n",
    "import os\n",
    "import shutil\n",
    "import seaborn as sns\n",
    "import matplotlib.pyplot as plt\n",
    "\n",
    "\n",
    "#df = pandas.read_csv(\"output.csv\")"
   ]
  },
  {
   "cell_type": "code",
   "execution_count": 24,
   "metadata": {},
   "outputs": [
    {
     "name": "stdout",
     "output_type": "stream",
     "text": [
      "zzzz\n",
      "hello Pim, I'm Nat\n"
     ]
    }
   ],
   "source": [
    "class Person:  \n",
    "    def __init__(self, name, height, asleep = False):\n",
    "        self.name = name\n",
    "        self.height = height\n",
    "        self.asleep = asleep\n",
    "    \n",
    "    def wake_up(self):\n",
    "        self.asleep = False\n",
    "\n",
    "    def greet(self, this_person):\n",
    "        if self.asleep:\n",
    "            return \"zzzz\"\n",
    "        else:\n",
    "            return f\"hello {this_person}, I'm {self.name}\"\n",
    "\n",
    "student1 = Person( \"Jill\", 145 )\n",
    "student2 = Person( \"Nat\",  166, asleep = True)\n",
    "\n",
    "print(student2.greet(\"Pim\"))\n",
    "student2.wake_up()\n",
    "print(student2.greet(\"Pim\"))\n",
    "\n"
   ]
  },
  {
   "cell_type": "code",
   "execution_count": null,
   "metadata": {},
   "outputs": [],
   "source": [
    "# python 3.9.6\n",
    "# usr/bin/python3"
   ]
  },
  {
   "cell_type": "code",
   "execution_count": 7,
   "metadata": {},
   "outputs": [
    {
     "data": {
      "text/html": [
       "<div>\n",
       "<style scoped>\n",
       "    .dataframe tbody tr th:only-of-type {\n",
       "        vertical-align: middle;\n",
       "    }\n",
       "\n",
       "    .dataframe tbody tr th {\n",
       "        vertical-align: top;\n",
       "    }\n",
       "\n",
       "    .dataframe thead th {\n",
       "        text-align: right;\n",
       "    }\n",
       "</style>\n",
       "<table border=\"1\" class=\"dataframe\">\n",
       "  <thead>\n",
       "    <tr style=\"text-align: right;\">\n",
       "      <th></th>\n",
       "      <th>Name</th>\n",
       "      <th>Username</th>\n",
       "      <th>Role</th>\n",
       "      <th>AttendeeType</th>\n",
       "      <th>First join</th>\n",
       "      <th>Last leave</th>\n",
       "      <th>Total time</th>\n",
       "      <th>Joins</th>\n",
       "    </tr>\n",
       "  </thead>\n",
       "  <tbody>\n",
       "    <tr>\n",
       "      <th>0</th>\n",
       "      <td>Pawel Orzechowski</td>\n",
       "      <td>porzecho</td>\n",
       "      <td>Moderator</td>\n",
       "      <td>Integration</td>\n",
       "      <td>03/20/2024 17:49:56</td>\n",
       "      <td>03/20/2024 20:37:51</td>\n",
       "      <td>02:39:33</td>\n",
       "      <td>2</td>\n",
       "    </tr>\n",
       "    <tr>\n",
       "      <th>1</th>\n",
       "      <td>Franziska McManus</td>\n",
       "      <td>fmcmanu2</td>\n",
       "      <td>Moderator</td>\n",
       "      <td>Integration</td>\n",
       "      <td>03/20/2024 17:53:29</td>\n",
       "      <td>03/20/2024 20:11:51</td>\n",
       "      <td>02:18:21</td>\n",
       "      <td>1</td>\n",
       "    </tr>\n",
       "    <tr>\n",
       "      <th>2</th>\n",
       "      <td>Zhuang Boh</td>\n",
       "      <td>s2619749</td>\n",
       "      <td>Participant</td>\n",
       "      <td>Integration</td>\n",
       "      <td>03/20/2024 17:58:07</td>\n",
       "      <td>03/20/2024 18:55:31</td>\n",
       "      <td>00:57:24</td>\n",
       "      <td>1</td>\n",
       "    </tr>\n",
       "    <tr>\n",
       "      <th>3</th>\n",
       "      <td>Junyi Gao</td>\n",
       "      <td>s2460148</td>\n",
       "      <td>Moderator</td>\n",
       "      <td>Integration</td>\n",
       "      <td>03/20/2024 17:59:23</td>\n",
       "      <td>03/20/2024 20:11:46</td>\n",
       "      <td>02:12:22</td>\n",
       "      <td>1</td>\n",
       "    </tr>\n",
       "    <tr>\n",
       "      <th>4</th>\n",
       "      <td>Kate Browne</td>\n",
       "      <td>s2618393</td>\n",
       "      <td>Participant</td>\n",
       "      <td>Integration</td>\n",
       "      <td>03/20/2024 17:59:28</td>\n",
       "      <td>03/20/2024 19:38:28</td>\n",
       "      <td>01:39:00</td>\n",
       "      <td>1</td>\n",
       "    </tr>\n",
       "    <tr>\n",
       "      <th>5</th>\n",
       "      <td>Swe Lynn</td>\n",
       "      <td>s2619841</td>\n",
       "      <td>Participant</td>\n",
       "      <td>Integration</td>\n",
       "      <td>03/20/2024 18:00:05</td>\n",
       "      <td>03/20/2024 19:25:18</td>\n",
       "      <td>01:25:13</td>\n",
       "      <td>1</td>\n",
       "    </tr>\n",
       "    <tr>\n",
       "      <th>6</th>\n",
       "      <td>Jian Yu</td>\n",
       "      <td>s2597894</td>\n",
       "      <td>Participant</td>\n",
       "      <td>Integration</td>\n",
       "      <td>03/20/2024 18:00:25</td>\n",
       "      <td>03/20/2024 20:03:11</td>\n",
       "      <td>01:58:57</td>\n",
       "      <td>2</td>\n",
       "    </tr>\n",
       "    <tr>\n",
       "      <th>7</th>\n",
       "      <td>Bernice Pollacco</td>\n",
       "      <td>s2560065</td>\n",
       "      <td>Participant</td>\n",
       "      <td>Integration</td>\n",
       "      <td>03/20/2024 18:00:36</td>\n",
       "      <td>03/20/2024 20:08:15</td>\n",
       "      <td>02:07:39</td>\n",
       "      <td>1</td>\n",
       "    </tr>\n",
       "    <tr>\n",
       "      <th>8</th>\n",
       "      <td>Brittany Blankinship</td>\n",
       "      <td>bblankin</td>\n",
       "      <td>Moderator</td>\n",
       "      <td>Integration</td>\n",
       "      <td>03/20/2024 18:01:53</td>\n",
       "      <td>03/20/2024 20:37:50</td>\n",
       "      <td>02:35:57</td>\n",
       "      <td>1</td>\n",
       "    </tr>\n",
       "    <tr>\n",
       "      <th>9</th>\n",
       "      <td>Benjamin Groß</td>\n",
       "      <td>s2616861</td>\n",
       "      <td>Participant</td>\n",
       "      <td>Integration</td>\n",
       "      <td>03/20/2024 18:05:30</td>\n",
       "      <td>03/20/2024 18:47:48</td>\n",
       "      <td>00:42:18</td>\n",
       "      <td>1</td>\n",
       "    </tr>\n",
       "    <tr>\n",
       "      <th>10</th>\n",
       "      <td>David Mwale</td>\n",
       "      <td>s2510933</td>\n",
       "      <td>Participant</td>\n",
       "      <td>Integration</td>\n",
       "      <td>03/20/2024 18:48:14</td>\n",
       "      <td>03/20/2024 20:03:35</td>\n",
       "      <td>00:26:05</td>\n",
       "      <td>2</td>\n",
       "    </tr>\n",
       "  </tbody>\n",
       "</table>\n",
       "</div>"
      ],
      "text/plain": [
       "                    Name  Username         Role AttendeeType  \\\n",
       "0      Pawel Orzechowski  porzecho    Moderator  Integration   \n",
       "1      Franziska McManus  fmcmanu2    Moderator  Integration   \n",
       "2             Zhuang Boh  s2619749  Participant  Integration   \n",
       "3              Junyi Gao  s2460148    Moderator  Integration   \n",
       "4            Kate Browne  s2618393  Participant  Integration   \n",
       "5               Swe Lynn  s2619841  Participant  Integration   \n",
       "6                Jian Yu  s2597894  Participant  Integration   \n",
       "7       Bernice Pollacco  s2560065  Participant  Integration   \n",
       "8   Brittany Blankinship  bblankin    Moderator  Integration   \n",
       "9          Benjamin Groß  s2616861  Participant  Integration   \n",
       "10           David Mwale  s2510933  Participant  Integration   \n",
       "\n",
       "             First join           Last leave Total time  Joins  \n",
       "0   03/20/2024 17:49:56  03/20/2024 20:37:51   02:39:33      2  \n",
       "1   03/20/2024 17:53:29  03/20/2024 20:11:51   02:18:21      1  \n",
       "2   03/20/2024 17:58:07  03/20/2024 18:55:31   00:57:24      1  \n",
       "3   03/20/2024 17:59:23  03/20/2024 20:11:46   02:12:22      1  \n",
       "4   03/20/2024 17:59:28  03/20/2024 19:38:28   01:39:00      1  \n",
       "5   03/20/2024 18:00:05  03/20/2024 19:25:18   01:25:13      1  \n",
       "6   03/20/2024 18:00:25  03/20/2024 20:03:11   01:58:57      2  \n",
       "7   03/20/2024 18:00:36  03/20/2024 20:08:15   02:07:39      1  \n",
       "8   03/20/2024 18:01:53  03/20/2024 20:37:50   02:35:57      1  \n",
       "9   03/20/2024 18:05:30  03/20/2024 18:47:48   00:42:18      1  \n",
       "10  03/20/2024 18:48:14  03/20/2024 20:03:35   00:26:05      2  "
      ]
     },
     "execution_count": 7,
     "metadata": {},
     "output_type": "execute_result"
    }
   ],
   "source": [
    "pd.read_csv(\"ScraperDownloads\\HEIN110662023-4SV1FLEX_Wednesday_6-8pm_Programming_Lab_0.csv\")"
   ]
  },
  {
   "cell_type": "code",
   "execution_count": 19,
   "metadata": {},
   "outputs": [],
   "source": [
    "empty = True\n",
    "allLogs = None\n",
    "allNames = os.listdir(sys.path[0] + \"\\ScraperDownloads\")\n",
    "\n",
    "for name in allNames:\n",
    "    curDf = pd.read_csv(\"ScraperDownloads\\\\\" + name)\n",
    "\n",
    "    nameSplit = name.split(\"_\")\n",
    "\n",
    "    sessionType = \"_\".join(nameSplit[1:-1])\n",
    "    course = nameSplit[0]\n",
    "    typeCol = [sessionType] * len(curDf)\n",
    "    courseCol = [course] * len(curDf)\n",
    "\n",
    "    curDf['course'] = courseCol\n",
    "    curDf['sessionType'] = typeCol\n",
    "    \n",
    "    if empty:\n",
    "        allLogs = curDf\n",
    "        empty = False\n",
    "    else:\n",
    "        allLogs = pd.concat([allLogs, curDf])\n",
    "\n",
    "allLogs.to_csv(\"allLogs.csv\")"
   ]
  },
  {
   "cell_type": "code",
   "execution_count": 21,
   "metadata": {},
   "outputs": [],
   "source": []
  },
  {
   "cell_type": "code",
   "execution_count": 7,
   "metadata": {},
   "outputs": [
    {
     "data": {
      "text/html": [
       "<div>\n",
       "<style scoped>\n",
       "    .dataframe tbody tr th:only-of-type {\n",
       "        vertical-align: middle;\n",
       "    }\n",
       "\n",
       "    .dataframe tbody tr th {\n",
       "        vertical-align: top;\n",
       "    }\n",
       "\n",
       "    .dataframe thead th {\n",
       "        text-align: right;\n",
       "    }\n",
       "</style>\n",
       "<table border=\"1\" class=\"dataframe\">\n",
       "  <thead>\n",
       "    <tr style=\"text-align: right;\">\n",
       "      <th></th>\n",
       "      <th>Code</th>\n",
       "      <th>Years</th>\n",
       "    </tr>\n",
       "  </thead>\n",
       "  <tbody>\n",
       "    <tr>\n",
       "      <th>0</th>\n",
       "      <td>HEIN11037</td>\n",
       "      <td>23-24</td>\n",
       "    </tr>\n",
       "    <tr>\n",
       "      <th>1</th>\n",
       "      <td>HEIN11039</td>\n",
       "      <td>22-23 23-24</td>\n",
       "    </tr>\n",
       "    <tr>\n",
       "      <th>2</th>\n",
       "      <td>HEIN11043</td>\n",
       "      <td>23-24</td>\n",
       "    </tr>\n",
       "    <tr>\n",
       "      <th>3</th>\n",
       "      <td>HEIN11045</td>\n",
       "      <td>21-22 22-23</td>\n",
       "    </tr>\n",
       "    <tr>\n",
       "      <th>4</th>\n",
       "      <td>HEIN11047</td>\n",
       "      <td>23-24</td>\n",
       "    </tr>\n",
       "    <tr>\n",
       "      <th>5</th>\n",
       "      <td>HEIN11048</td>\n",
       "      <td>22-23 23-24</td>\n",
       "    </tr>\n",
       "    <tr>\n",
       "      <th>6</th>\n",
       "      <td>HEIN11050</td>\n",
       "      <td>22-23</td>\n",
       "    </tr>\n",
       "    <tr>\n",
       "      <th>7</th>\n",
       "      <td>HEIN11059</td>\n",
       "      <td>22-23 23-24</td>\n",
       "    </tr>\n",
       "    <tr>\n",
       "      <th>8</th>\n",
       "      <td>HEIN11062</td>\n",
       "      <td>22-23 23-24</td>\n",
       "    </tr>\n",
       "    <tr>\n",
       "      <th>9</th>\n",
       "      <td>HEIN11063</td>\n",
       "      <td>23-24</td>\n",
       "    </tr>\n",
       "    <tr>\n",
       "      <th>10</th>\n",
       "      <td>HEIN11064</td>\n",
       "      <td>22-23</td>\n",
       "    </tr>\n",
       "    <tr>\n",
       "      <th>11</th>\n",
       "      <td>HEIN11066</td>\n",
       "      <td>23-24</td>\n",
       "    </tr>\n",
       "    <tr>\n",
       "      <th>12</th>\n",
       "      <td>HEIN11068</td>\n",
       "      <td>23-24</td>\n",
       "    </tr>\n",
       "    <tr>\n",
       "      <th>13</th>\n",
       "      <td>HEIN11076</td>\n",
       "      <td>23-24</td>\n",
       "    </tr>\n",
       "  </tbody>\n",
       "</table>\n",
       "</div>"
      ],
      "text/plain": [
       "         Code        Years\n",
       "0   HEIN11037        23-24\n",
       "1   HEIN11039  22-23 23-24\n",
       "2   HEIN11043        23-24\n",
       "3   HEIN11045  21-22 22-23\n",
       "4   HEIN11047        23-24\n",
       "5   HEIN11048  22-23 23-24\n",
       "6   HEIN11050        22-23\n",
       "7   HEIN11059  22-23 23-24\n",
       "8   HEIN11062  22-23 23-24\n",
       "9   HEIN11063        23-24\n",
       "10  HEIN11064        22-23\n",
       "11  HEIN11066        23-24\n",
       "12  HEIN11068        23-24\n",
       "13  HEIN11076        23-24"
      ]
     },
     "execution_count": 7,
     "metadata": {},
     "output_type": "execute_result"
    }
   ],
   "source": [
    "pairs = pd.read_csv(\"courseCodePairs.csv\")\n",
    "pairs"
   ]
  },
  {
   "cell_type": "code",
   "execution_count": 15,
   "metadata": {},
   "outputs": [
    {
     "name": "stdout",
     "output_type": "stream",
     "text": [
      "['HEIN110372023-4', 'HEIN110392022-3', 'HEIN110392023-4', 'HEIN110432023-4', 'HEIN110452021-2', 'HEIN110452022-3', 'HEIN110472023-4', 'HEIN110482022-3', 'HEIN110482023-4', 'HEIN110502022-3', 'HEIN110592022-3', 'HEIN110592023-4', 'HEIN110622022-3', 'HEIN110622023-4', 'HEIN110632023-4', 'HEIN110642022-3', 'HEIN110662023-4', 'HEIN110682023-4', 'HEIN110762023-4']\n"
     ]
    }
   ],
   "source": [
    "pairs = pd.read_csv(\"courseCodePairs.csv\")\n",
    "pairs\n",
    "shortHandCodes = []\n",
    "for _, p in pairs.iterrows():\n",
    "    instances = p[\"Years\"].split(\" \")\n",
    "    for inst in instances:\n",
    "        shortHandCodes.append(f\"{p['Code']}20{inst[:2]}-{inst[-1]}\")\n",
    "\n",
    "print(shortHandCodes)"
   ]
  },
  {
   "cell_type": "code",
   "execution_count": 17,
   "metadata": {},
   "outputs": [
    {
     "name": "stdout",
     "output_type": "stream",
     "text": [
      "127\n"
     ]
    }
   ],
   "source": [
    "allNames = os.listdir(sys.path[0] + \"\\ScraperDownloads\")\n",
    "print(len(allNames))"
   ]
  },
  {
   "cell_type": "code",
   "execution_count": 11,
   "metadata": {},
   "outputs": [],
   "source": [
    "attendance = pd.read_csv(\"allLogs.csv\")\n"
   ]
  },
  {
   "cell_type": "code",
   "execution_count": 13,
   "metadata": {},
   "outputs": [
    {
     "name": "stderr",
     "output_type": "stream",
     "text": [
      "C:\\Users\\stanc\\AppData\\Local\\Temp\\ipykernel_16256\\3450582602.py:1: FutureWarning: In a future version of pandas all arguments of DataFrame.drop except for the argument 'labels' will be keyword-only.\n",
      "  attendance=attendance.drop(\"Unnamed: 0\", 1)\n"
     ]
    }
   ],
   "source": [
    "attendance=attendance.drop(\"Unnamed: 0\", 1)"
   ]
  },
  {
   "cell_type": "code",
   "execution_count": 70,
   "metadata": {},
   "outputs": [
    {
     "data": {
      "text/plain": [
       "array(['HEIN110372023-4', 'HEIN110392023-4', 'HEIN110432023-4',\n",
       "       'HEIN110482022-3', 'HEIN110482023-4', 'HEIN110622022-3',\n",
       "       'HEIN110622023-4', 'HEIN110662023-4', 'HEIN110682023-4'],\n",
       "      dtype=object)"
      ]
     },
     "execution_count": 70,
     "metadata": {},
     "output_type": "execute_result"
    }
   ],
   "source": [
    "attendance['course'].unique()"
   ]
  },
  {
   "cell_type": "code",
   "execution_count": 74,
   "metadata": {},
   "outputs": [
    {
     "name": "stderr",
     "output_type": "stream",
     "text": [
      "C:\\Users\\stanc\\AppData\\Local\\Temp\\ipykernel_16256\\1278339608.py:4: SettingWithCopyWarning: \n",
      "A value is trying to be set on a copy of a slice from a DataFrame.\n",
      "Try using .loc[row_indexer,col_indexer] = value instead\n",
      "\n",
      "See the caveats in the documentation: https://pandas.pydata.org/pandas-docs/stable/user_guide/indexing.html#returning-a-view-versus-a-copy\n",
      "  course['First join'] = [pd.to_datetime(x[:11]) for x in course['First join']]\n"
     ]
    },
    {
     "data": {
      "image/png": "[encoded data removed]",
      "text/plain": [
       "<Figure size 640x480 with 2 Axes>"
      ]
     },
     "metadata": {},
     "output_type": "display_data"
    }
   ],
   "source": [
    "course = attendance[attendance['course'] == \"HEIN110392023-4\"]\n",
    "\n",
    "\n",
    "course['First join'] = [pd.to_datetime(x[:11]) for x in course['First join']]\n",
    "course\n",
    "\n",
    "freqTable = pd.DataFrame()\n",
    "count = []\n",
    "dates = []\n",
    "\n",
    "for time in course['First join'].unique():\n",
    "   count.append(len(course[course['First join'] == time]))\n",
    "   dates.append(time)\n",
    "\n",
    "freqTable['date'] = course['First join'].unique()\n",
    "freqTable['count'] = count\n",
    "fig, axes = plt.subplots(nrows=1, ncols=2)\n",
    "bar = sns.barplot(x='date', y='count', data=freqTable, ax=axes[0])\n",
    "count = sns.countplot(x='sessionType',data=course, ax=axes[1])\n",
    "bar.tick_params(axis='x', rotation=90)\n",
    "count.tick_params(axis='x', rotation=90)\n",
    "\n",
    "#axes[0] = ax\n",
    "#axes[1] = ax1"
   ]
  }
 ],
 "metadata": {
  "kernelspec": {
   "display_name": "Python 3",
   "language": "python",
   "name": "python3"
  },
  "language_info": {
   "codemirror_mode": {
    "name": "ipython",
    "version": 3
   },
   "file_extension": ".py",
   "mimetype": "text/x-python",
   "name": "python",
   "nbconvert_exporter": "python",
   "pygments_lexer": "ipython3",
   "version": "3.9.6"
  }
 },
 "nbformat": 4,
 "nbformat_minor": 2
}
